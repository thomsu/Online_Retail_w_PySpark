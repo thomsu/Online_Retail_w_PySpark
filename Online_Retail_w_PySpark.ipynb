{
 "cells": [
  {
   "cell_type": "code",
   "execution_count": 1,
   "metadata": {},
   "outputs": [],
   "source": [
    "from pyspark.sql import SparkSession\n",
    "from pyspark.conf import SparkConf\n",
    "\n",
    "spark = SparkSession.builder \\\n",
    "    .master(\"local[*]\") \\\n",
    "    .appName(\"PySpark Online Retail Analysis\") \\\n",
    "    .config(conf=SparkConf()) \\\n",
    "    .getOrCreate()"
   ]
  },
  {
   "cell_type": "code",
   "execution_count": 2,
   "metadata": {},
   "outputs": [],
   "source": [
    "import pandas as pd\n",
    "import numpy as np\n",
    "\n",
    "df_dtypes = {'Invoice': object, 'StockCode': object, 'Description': object, 'Quantity': np.int32,\n",
    "             'InvoiceDate': np.datetime64, 'Price': np.float64, 'CustomerID': object, 'Country': object}\n",
    "\n",
    "df = pd.concat([pd.read_excel('online_retail_II.xlsx', sheet_name='Year 2009-2010'), \n",
    "                pd.read_excel('online_retail_II.xlsx', sheet_name='Year 2010-2011')], ignore_index=True)"
   ]
  },
  {
   "cell_type": "code",
   "execution_count": 3,
   "metadata": {
    "scrolled": false
   },
   "outputs": [
    {
     "name": "stdout",
     "output_type": "stream",
     "text": [
      "<class 'pandas.core.frame.DataFrame'>\n",
      "RangeIndex: 1067371 entries, 0 to 1067370\n",
      "Data columns (total 8 columns):\n",
      "Invoice        1067371 non-null object\n",
      "StockCode      1067371 non-null object\n",
      "Description    1062989 non-null object\n",
      "Quantity       1067371 non-null int64\n",
      "InvoiceDate    1067371 non-null datetime64[ns]\n",
      "Price          1067371 non-null float64\n",
      "Customer ID    824364 non-null float64\n",
      "Country        1067371 non-null object\n",
      "dtypes: datetime64[ns](1), float64(2), int64(1), object(4)\n",
      "memory usage: 65.1+ MB\n"
     ]
    }
   ],
   "source": [
    "df.info()"
   ]
  },
  {
   "cell_type": "code",
   "execution_count": 4,
   "metadata": {},
   "outputs": [],
   "source": [
    "import pyspark.sql.functions as F\n",
    "from pyspark.sql.types import StructType, StructField, StringType, FloatType, TimestampType, IntegerType\n",
    "\n",
    "spark_Schema = StructType([StructField(\"Invoice\", StringType(), False),\n",
    "                           StructField(\"StockCode\", StringType(), False),\n",
    "                           StructField(\"Description\", StringType(), True),\n",
    "                           StructField(\"Quantity\", IntegerType(), False),\n",
    "                           StructField(\"InvoiceDate\", TimestampType(), False),\n",
    "                           StructField(\"Price\", FloatType(), False),\n",
    "                           StructField(\"CustomerID\", StringType(), True), \n",
    "                           StructField(\"Country\", StringType(), False)])\n",
    "\n",
    "df = spark.createDataFrame(df, schema=spark_Schema)"
   ]
  },
  {
   "cell_type": "code",
   "execution_count": 5,
   "metadata": {},
   "outputs": [
    {
     "name": "stdout",
     "output_type": "stream",
     "text": [
      "root\n",
      " |-- Invoice: string (nullable = false)\n",
      " |-- StockCode: string (nullable = false)\n",
      " |-- Description: string (nullable = true)\n",
      " |-- Quantity: integer (nullable = false)\n",
      " |-- InvoiceDate: timestamp (nullable = false)\n",
      " |-- Price: float (nullable = false)\n",
      " |-- CustomerID: string (nullable = true)\n",
      " |-- Country: string (nullable = false)\n",
      "\n"
     ]
    }
   ],
   "source": [
    "df.printSchema()"
   ]
  },
  {
   "cell_type": "code",
   "execution_count": 6,
   "metadata": {},
   "outputs": [],
   "source": [
    "df = df.withColumn('Description', F.when(F.isnan(F.col('Description')), 'None Provided').otherwise(F.col('Description')))\n",
    "df = df.withColumn('CustomerID', F.when(F.isnan(F.col('CustomerID')), '0').otherwise(F.col('CustomerID')))"
   ]
  },
  {
   "cell_type": "code",
   "execution_count": 7,
   "metadata": {},
   "outputs": [
    {
     "name": "stdout",
     "output_type": "stream",
     "text": [
      "+-------+---------+--------------------+--------+-------------------+-----+----------+--------------+\n",
      "|Invoice|StockCode|         Description|Quantity|        InvoiceDate|Price|CustomerID|       Country|\n",
      "+-------+---------+--------------------+--------+-------------------+-----+----------+--------------+\n",
      "| 490149|    84378|SET OF 3 HEART CO...|       3|2009-12-04 09:43:00| 2.57|         0|United Kingdom|\n",
      "| 492303|    35954|SMALL FOLKART STA...|       5|2009-12-16 11:57:00| 3.43|         0|United Kingdom|\n",
      "| 493073|    22059|CERAMIC STRWBERRY...|       1|2009-12-22 09:41:00| 3.43|         0|United Kingdom|\n",
      "| 493261|      DOT|      DOTCOM POSTAGE|       1|2009-12-22 14:48:00|88.48|         0|United Kingdom|\n",
      "| 494495|    20759|CHRYSANTHEMUM POC...|       6|2010-01-14 17:43:00| 0.64|         0|United Kingdom|\n",
      "| 497584|        M|              Manual|       2|2010-02-10 15:10:00| 1.65|         0|United Kingdom|\n",
      "| 498861|    21780|       None Provided|     -25|2010-02-23 12:23:00|  0.0|         0|United Kingdom|\n",
      "| 498934|    21232|STRAWBERRY CERAMI...|       2|2010-02-24 10:42:00| 2.51|         0|United Kingdom|\n",
      "| 501832|    21622|VINTAGE UNION JAC...|       1|2010-03-19 16:43:00|13.57|         0|United Kingdom|\n",
      "| 501958|   84989B|       None Provided|    -100|2010-03-22 12:00:00|  0.0|         0|United Kingdom|\n",
      "| 504928|    84991|60 TEATIME FAIRY ...|       2|2010-04-19 10:59:00| 1.28|         0|United Kingdom|\n",
      "| 513655|    90053|CRACKED GLAZE EAR...|       1|2010-06-28 10:02:00| 2.54|         0|United Kingdom|\n",
      "| 514198|    20725|LUNCH BAG RED SPOTTY|       2|2010-06-30 15:55:00| 4.21|         0|United Kingdom|\n",
      "| 515287|    21755|LOVE BUILDING BLO...|       1|2010-07-09 14:58:00|11.87|         0|United Kingdom|\n",
      "| 521555|    22494|EMERGENCY FIRST A...|       1|2010-09-06 16:17:00| 2.51|         0|United Kingdom|\n",
      "| 529325|    22568|FELTCRAFT CUSHION...|       1|2010-10-27 14:10:00| 7.62|         0|United Kingdom|\n",
      "| 531387|    21875|    KINGS CHOICE MUG|       1|2010-11-08 09:20:00| 3.36|         0|United Kingdom|\n",
      "| 535322|    22086|PAPER CHAIN KIT 5...|      17|2010-11-25 15:19:00| 5.91|         0|United Kingdom|\n",
      "| 536592|    22751|FELTCRAFT PRINCES...|       1|2010-12-01 17:06:00| 7.62|         0|United Kingdom|\n",
      "| 538071|   84032A|CHARLIE+LOLA PINK...|       9|2010-12-09 14:09:00| 3.36|         0|United Kingdom|\n",
      "+-------+---------+--------------------+--------+-------------------+-----+----------+--------------+\n",
      "only showing top 20 rows\n",
      "\n"
     ]
    }
   ],
   "source": [
    "df.filter(df[\"CustomerID\"] == '0').sample(False, 0.0002, 999).show()"
   ]
  },
  {
   "cell_type": "code",
   "execution_count": 8,
   "metadata": {},
   "outputs": [
    {
     "name": "stdout",
     "output_type": "stream",
     "text": [
      "+-------------------+\n",
      "|Customer ID 0 Total|\n",
      "+-------------------+\n",
      "|         2797634.31|\n",
      "+-------------------+\n",
      "\n"
     ]
    }
   ],
   "source": [
    "df.where((df[\"CustomerID\"] == '0') & (df[\"Price\"] > '0')) \\\n",
    ".withColumn('Total', df.Quantity*df.Price).agg(F.round(F.sum('Total'), 2).alias('Customer ID 0 Total')).show()"
   ]
  },
  {
   "cell_type": "code",
   "execution_count": 9,
   "metadata": {
    "scrolled": false
   },
   "outputs": [
    {
     "name": "stdout",
     "output_type": "stream",
     "text": [
      "+-------+---------+--------------------+--------+-------------------+-----+----------+--------------+\n",
      "|Invoice|StockCode|         Description|Quantity|        InvoiceDate|Price|CustomerID|       Country|\n",
      "+-------+---------+--------------------+--------+-------------------+-----+----------+--------------+\n",
      "| 489825|    22076|  6 RIBBONS EMPIRE  |      12|2009-12-02 13:34:00|  0.0|   16126.0|United Kingdom|\n",
      "| 489998|    48185| DOOR MAT FAIRY CAKE|       2|2009-12-03 11:19:00|  0.0|   15658.0|United Kingdom|\n",
      "| 490727|        M|              Manual|       1|2009-12-07 16:38:00|  0.0|   17231.0|United Kingdom|\n",
      "| 490961|    22065|CHRISTMAS PUDDING...|       1|2009-12-08 15:25:00|  0.0|   14108.0|United Kingdom|\n",
      "| 490961|    22142|CHRISTMAS CRAFT W...|      12|2009-12-08 15:25:00|  0.0|   14108.0|United Kingdom|\n",
      "| 492079|    85042|ANTIQUE LILY FAIR...|       8|2009-12-15 13:49:00|  0.0|   15070.0|United Kingdom|\n",
      "| 492760|    21143|ANTIQUE GLASS HEA...|      12|2009-12-18 14:22:00|  0.0|   18071.0|United Kingdom|\n",
      "| 493761|    79320|     FLAMINGO LIGHTS|      24|2010-01-06 14:54:00|  0.0|   14258.0|United Kingdom|\n",
      "| 493899|    22355|CHARLOTTE BAG , S...|      10|2010-01-08 10:43:00|  0.0|   12417.0|       Belgium|\n",
      "| 494607|    21533|RETRO SPOT LARGE ...|      12|2010-01-15 12:43:00|  0.0|   16858.0|United Kingdom|\n",
      "| 497819|  TEST001|This is a test pr...|       5|2010-02-12 14:58:00|  0.0|   14103.0|United Kingdom|\n",
      "| 497843|  TEST001|This is a test pr...|       5|2010-02-12 15:47:00|  0.0|   14827.0|United Kingdom|\n",
      "| 500073|    21662|VINTAGE GLASS COF...|       1|2010-03-04 11:44:00|  0.0|   13047.0|United Kingdom|\n",
      "| 503585|    22459|CAST IRON HOOK GA...|       8|2010-04-01 17:13:00|  0.0|   13047.0|United Kingdom|\n",
      "| 503585|    22458|CAST IRON HOOK GA...|       8|2010-04-01 17:13:00|  0.0|   13047.0|United Kingdom|\n",
      "| 505083|    22376|AIRLINE BAG VINTA...|       1|2010-04-20 09:56:00|  0.0|   12623.0|       Germany|\n",
      "| 511902|    21765|HANGING METAL BIR...|       1|2010-06-11 11:12:00|  0.0|   12748.0|United Kingdom|\n",
      "| 512609|    20914|SET/5 RED SPOTTY ...|       2|2010-06-17 10:12:00|  0.0|   14045.0|United Kingdom|\n",
      "| 513416|    22423|REGENCY CAKESTAND...|       5|2010-06-24 12:34:00|  0.0|   13089.0|United Kingdom|\n",
      "| 516304|    22690|DOORMAT HOME SWEE...|       6|2010-07-19 13:13:00|  0.0|   14025.0|United Kingdom|\n",
      "+-------+---------+--------------------+--------+-------------------+-----+----------+--------------+\n",
      "only showing top 20 rows\n",
      "\n"
     ]
    }
   ],
   "source": [
    "df.filter((df[\"CustomerID\"] != '0') & (df[\"Price\"] == '0')).show()"
   ]
  },
  {
   "cell_type": "code",
   "execution_count": 10,
   "metadata": {},
   "outputs": [
    {
     "data": {
      "text/plain": [
       "71"
      ]
     },
     "execution_count": 10,
     "metadata": {},
     "output_type": "execute_result"
    }
   ],
   "source": [
    "df.filter((df[\"CustomerID\"] != '0') & (df[\"Price\"] == '0')).count()"
   ]
  },
  {
   "cell_type": "code",
   "execution_count": 11,
   "metadata": {
    "scrolled": true
   },
   "outputs": [
    {
     "name": "stdout",
     "output_type": "stream",
     "text": [
      "+-------+---------+---------------+--------+-------------------+---------+----------+--------------+\n",
      "|Invoice|StockCode|    Description|Quantity|        InvoiceDate|    Price|CustomerID|       Country|\n",
      "+-------+---------+---------------+--------+-------------------+---------+----------+--------------+\n",
      "|A506401|        B|Adjust bad debt|       1|2010-04-29 13:36:00|-53594.36|         0|United Kingdom|\n",
      "|A516228|        B|Adjust bad debt|       1|2010-07-19 11:24:00|-44031.79|         0|United Kingdom|\n",
      "|A528059|        B|Adjust bad debt|       1|2010-10-20 12:04:00|-38925.87|         0|United Kingdom|\n",
      "|A563186|        B|Adjust bad debt|       1|2011-08-12 14:51:00|-11062.06|         0|United Kingdom|\n",
      "|A563187|        B|Adjust bad debt|       1|2011-08-12 14:52:00|-11062.06|         0|United Kingdom|\n",
      "+-------+---------+---------------+--------+-------------------+---------+----------+--------------+\n",
      "\n"
     ]
    }
   ],
   "source": [
    "df.filter(\"Price < '0'\").show()"
   ]
  },
  {
   "cell_type": "code",
   "execution_count": 12,
   "metadata": {},
   "outputs": [
    {
     "name": "stdout",
     "output_type": "stream",
     "text": [
      "+--------------+\n",
      "|Total Bad Debt|\n",
      "+--------------+\n",
      "|    -158676.14|\n",
      "+--------------+\n",
      "\n"
     ]
    }
   ],
   "source": [
    "df.filter(\"Price < '0'\").agg(F.round(F.sum('Price'), 2).alias('Total Bad Debt')).show()"
   ]
  },
  {
   "cell_type": "code",
   "execution_count": 13,
   "metadata": {},
   "outputs": [
    {
     "data": {
      "text/plain": [
       "6202"
      ]
     },
     "execution_count": 13,
     "metadata": {},
     "output_type": "execute_result"
    }
   ],
   "source": [
    "df.filter(\"Price = '0'\").count()"
   ]
  },
  {
   "cell_type": "code",
   "execution_count": 14,
   "metadata": {},
   "outputs": [
    {
     "name": "stdout",
     "output_type": "stream",
     "text": [
      "+-------+-----+\n",
      "|   date|count|\n",
      "+-------+-----+\n",
      "|2009.12|   71|\n",
      "|2010.01|  123|\n",
      "|2010.02|  432|\n",
      "|2010.03|  169|\n",
      "|2010.04|   62|\n",
      "|2010.05|  338|\n",
      "|2010.06|  108|\n",
      "|2010.07|   35|\n",
      "|2010.08|   75|\n",
      "|2010.09|   69|\n",
      "|2010.10|   90|\n",
      "|2010.11|  199|\n",
      "|2010.12|  118|\n",
      "|2011.01|   83|\n",
      "|2011.02|   40|\n",
      "|2011.03|   93|\n",
      "|2011.04|  163|\n",
      "|2011.05|   96|\n",
      "|2011.06|   53|\n",
      "|2011.07|  100|\n",
      "+-------+-----+\n",
      "only showing top 20 rows\n",
      "\n"
     ]
    }
   ],
   "source": [
    "df.where(\"Price = '0' and Description = 'None Provided' and Quantity < '0'\") \\\n",
    ".groupby(F.date_format('InvoiceDate', 'yyyy.MM').alias('date')).count().sort('date').show()"
   ]
  },
  {
   "cell_type": "code",
   "execution_count": 15,
   "metadata": {},
   "outputs": [
    {
     "name": "stdout",
     "output_type": "stream",
     "text": [
      "+-------+-----+\n",
      "|   date|count|\n",
      "+-------+-----+\n",
      "|2009.12|   19|\n",
      "|2010.01|    5|\n",
      "|2010.02|   16|\n",
      "|2010.03|   21|\n",
      "|2010.04|   13|\n",
      "|2010.05|   31|\n",
      "|2010.06|   32|\n",
      "|2010.07|   53|\n",
      "|2010.08|   18|\n",
      "|2010.09|   24|\n",
      "|2010.10|   28|\n",
      "|2010.11|   26|\n",
      "|2010.12|   16|\n",
      "|2011.01|   13|\n",
      "|2011.02|    8|\n",
      "|2011.03|   41|\n",
      "|2011.04|   23|\n",
      "|2011.05|   21|\n",
      "|2011.06|   54|\n",
      "|2011.07|   17|\n",
      "+-------+-----+\n",
      "only showing top 20 rows\n",
      "\n"
     ]
    }
   ],
   "source": [
    "df.where(\"Price = '0' and Description != 'None Provided' and Quantity < '0'\") \\\n",
    ".groupby(F.date_format('InvoiceDate', 'yyyy.MM').alias('date')).count().sort('date').show()"
   ]
  },
  {
   "cell_type": "code",
   "execution_count": 16,
   "metadata": {},
   "outputs": [
    {
     "name": "stdout",
     "output_type": "stream",
     "text": [
      "+--------------------+-----+\n",
      "|         Description|count|\n",
      "+--------------------+-----+\n",
      "|               check|  123|\n",
      "|             damages|   84|\n",
      "|                   ?|   83|\n",
      "|             damaged|   78|\n",
      "|             missing|   27|\n",
      "|sold as set on do...|   20|\n",
      "|             Damaged|   17|\n",
      "|Unsaleable, destr...|    9|\n",
      "|             smashed|    9|\n",
      "|         thrown away|    9|\n",
      "|              dotcom|    8|\n",
      "|                  ??|    7|\n",
      "|            damages?|    7|\n",
      "|             crushed|    6|\n",
      "|          given away|    6|\n",
      "|             counted|    5|\n",
      "|         wet damaged|    5|\n",
      "|                ebay|    5|\n",
      "|             checked|    5|\n",
      "|             Damages|    5|\n",
      "+--------------------+-----+\n",
      "only showing top 20 rows\n",
      "\n"
     ]
    }
   ],
   "source": [
    "df.where(\"Price = '0' and Description != 'None Provided' and Quantity < '0'\") \\\n",
    ".groupby(\"Description\").count().sort(F.col(\"count\").desc()).show()"
   ]
  },
  {
   "cell_type": "code",
   "execution_count": 17,
   "metadata": {},
   "outputs": [
    {
     "name": "stdout",
     "output_type": "stream",
     "text": [
      "+----------+-----+\n",
      "|CustomerID|count|\n",
      "+----------+-----+\n",
      "|         0| 3457|\n",
      "+----------+-----+\n",
      "\n"
     ]
    }
   ],
   "source": [
    "df.where(\"Price = '0' and Quantity < '0'\") \\\n",
    ".groupby(\"CustomerID\").count().sort(F.col(\"count\").desc()).show()"
   ]
  },
  {
   "cell_type": "code",
   "execution_count": 18,
   "metadata": {},
   "outputs": [],
   "source": [
    "df1 = df.where(df[\"CustomerID\"] != '0')\n",
    "df1 = df1.withColumn(\"ItemTotal\", F.round(df1.Price*df1.Quantity, 2))"
   ]
  },
  {
   "cell_type": "code",
   "execution_count": 19,
   "metadata": {
    "scrolled": false
   },
   "outputs": [],
   "source": [
    "from pyspark.sql.window import Window\n",
    "invoice_part = Window().partitionBy('Invoice')\n",
    "df1 = df1.withColumn('InvoiceTotal', F.round(F.sum('ItemTotal').over(invoice_part), 2))"
   ]
  },
  {
   "cell_type": "code",
   "execution_count": 20,
   "metadata": {},
   "outputs": [
    {
     "name": "stdout",
     "output_type": "stream",
     "text": [
      "+-------+---------+--------------------+--------+-------------------+-----+----------+--------------+---------+------------+\n",
      "|Invoice|StockCode|         Description|Quantity|        InvoiceDate|Price|CustomerID|       Country|ItemTotal|InvoiceTotal|\n",
      "+-------+---------+--------------------+--------+-------------------+-----+----------+--------------+---------+------------+\n",
      "| 489677|    21341|KASBAH LANTERN WI...|      24|2009-12-02 09:50:00| 4.25|   14000.0|United Kingdom|    102.0|       192.0|\n",
      "| 489677|    21323|HANGING MEDINA LA...|      24|2009-12-02 09:50:00| 3.75|   14000.0|United Kingdom|     90.0|       192.0|\n",
      "| 491045|    71477|COLOUR GLASS. STA...|      48|2009-12-09 10:02:00| 2.75|   12747.0|United Kingdom|    132.0|       303.2|\n",
      "| 491045|    21338|MARAKESH LANTERN ...|       6|2009-12-09 10:02:00| 5.95|   12747.0|United Kingdom|     35.7|       303.2|\n",
      "| 491045|    21339|MARAKESH LANTERN ...|       4|2009-12-09 10:02:00|16.95|   12747.0|United Kingdom|     67.8|       303.2|\n",
      "+-------+---------+--------------------+--------+-------------------+-----+----------+--------------+---------+------------+\n",
      "only showing top 5 rows\n",
      "\n"
     ]
    }
   ],
   "source": [
    "df1.show(5)"
   ]
  },
  {
   "cell_type": "code",
   "execution_count": 21,
   "metadata": {},
   "outputs": [
    {
     "name": "stdout",
     "output_type": "stream",
     "text": [
      "+--------------------+\n",
      "|             Country|\n",
      "+--------------------+\n",
      "|           Australia|\n",
      "|             Austria|\n",
      "|             Bahrain|\n",
      "|             Belgium|\n",
      "|              Brazil|\n",
      "|              Canada|\n",
      "|     Channel Islands|\n",
      "|              Cyprus|\n",
      "|      Czech Republic|\n",
      "|             Denmark|\n",
      "|                EIRE|\n",
      "|  European Community|\n",
      "|             Finland|\n",
      "|              France|\n",
      "|             Germany|\n",
      "|              Greece|\n",
      "|             Iceland|\n",
      "|              Israel|\n",
      "|               Italy|\n",
      "|               Japan|\n",
      "|               Korea|\n",
      "|             Lebanon|\n",
      "|           Lithuania|\n",
      "|               Malta|\n",
      "|         Netherlands|\n",
      "|             Nigeria|\n",
      "|              Norway|\n",
      "|              Poland|\n",
      "|            Portugal|\n",
      "|                 RSA|\n",
      "|        Saudi Arabia|\n",
      "|           Singapore|\n",
      "|               Spain|\n",
      "|              Sweden|\n",
      "|         Switzerland|\n",
      "|            Thailand|\n",
      "|                 USA|\n",
      "|United Arab Emirates|\n",
      "|      United Kingdom|\n",
      "|         Unspecified|\n",
      "|         West Indies|\n",
      "+--------------------+\n",
      "\n"
     ]
    }
   ],
   "source": [
    "df1.createOrReplaceTempView(\"retail\")\n",
    "tab1 = spark.sql(\"SELECT DISTINCT Country FROM retail ORDER BY Country\")\n",
    "tab1.show(tab1.count())"
   ]
  },
  {
   "cell_type": "code",
   "execution_count": 23,
   "metadata": {
    "scrolled": true
   },
   "outputs": [
    {
     "name": "stdout",
     "output_type": "stream",
     "text": [
      "+--------------+-------------+--------------+\n",
      "|       Country|    TotalSale|NumberOfOrders|\n",
      "+--------------+-------------+--------------+\n",
      "|United Kingdom|1.380642301E7|         40505|\n",
      "|          EIRE|    578501.63|           727|\n",
      "|   Netherlands|    548524.95|           250|\n",
      "|       Germany|    417988.56|          1095|\n",
      "|        France|    326504.67|           738|\n",
      "|     Australia|    167129.07|           117|\n",
      "|   Switzerland|     99082.81|           120|\n",
      "|         Spain|     91859.48|           188|\n",
      "|        Sweden|     87455.42|           128|\n",
      "|       Denmark|     65741.09|            53|\n",
      "+--------------+-------------+--------------+\n",
      "\n"
     ]
    }
   ],
   "source": [
    "tab1 = spark.sql(\"SELECT Country, ROUND(SUM(ItemTotal), 2) AS TotalSale, COUNT(DISTINCT Invoice) AS NumberOfOrders \\\n",
    "                 FROM retail GROUP BY Country ORDER BY TotalSale DESC LIMIT 10\")\n",
    "tab1.show()"
   ]
  },
  {
   "cell_type": "code",
   "execution_count": 24,
   "metadata": {},
   "outputs": [
    {
     "name": "stdout",
     "output_type": "stream",
     "text": [
      "+----------+---------+-----------+--------------+\n",
      "|CustomerID|TotalSale|AverageSale|       Country|\n",
      "+----------+---------+-----------+--------------+\n",
      "|   18102.0|598215.22|     3909.9|United Kingdom|\n",
      "|   14646.0|523342.07|    3191.11|   Netherlands|\n",
      "|   14156.0|296564.69|    1468.14|          EIRE|\n",
      "|   14911.0|270248.53|      529.9|          EIRE|\n",
      "|   17450.0|233579.39|    3829.17|United Kingdom|\n",
      "|   13694.0|190825.52|    1163.57|United Kingdom|\n",
      "|   17511.0|171885.98|    2022.19|United Kingdom|\n",
      "|   12415.0|143269.29|    4341.49|     Australia|\n",
      "|   16684.0|141502.25|    2176.96|United Kingdom|\n",
      "|   15061.0|136391.48|     988.34|United Kingdom|\n",
      "|   15311.0|113513.07|     420.42|United Kingdom|\n",
      "|   13089.0|113214.19|     458.36|United Kingdom|\n",
      "|   17949.0| 98895.59|     716.63|United Kingdom|\n",
      "|   16029.0| 91800.91|     734.41|United Kingdom|\n",
      "|   14298.0| 90489.31|    1077.25|United Kingdom|\n",
      "|   15769.0| 84269.38|    1652.34|United Kingdom|\n",
      "|   13798.0| 73573.47|     588.59|United Kingdom|\n",
      "|   15838.0| 73404.11|    1931.69|United Kingdom|\n",
      "|   12931.0| 71299.67|    1004.22|United Kingdom|\n",
      "|   17841.0| 69516.19|     240.54|United Kingdom|\n",
      "|   14088.0| 62400.02|     3120.0|United Kingdom|\n",
      "|   16422.0| 61110.54|     418.57|United Kingdom|\n",
      "|   13081.0| 58328.15|    1325.64|United Kingdom|\n",
      "|   14096.0| 57120.91|    1680.03|United Kingdom|\n",
      "|   16754.0| 56560.58|    1616.02|United Kingdom|\n",
      "+----------+---------+-----------+--------------+\n",
      "\n"
     ]
    }
   ],
   "source": [
    "tab2 = spark.sql(\"SELECT CustomerID, ROUND(SUM(ItemTotal), 2) AS TotalSale, \\\n",
    "                 ROUND(SUM(ItemTotal)/COUNT(DISTINCT Invoice), 2) AS AverageSale, \\\n",
    "                 Country FROM retail GROUP BY CustomerID, Country ORDER BY TotalSale DESC LIMIT 25\")\n",
    "tab2.show(25)"
   ]
  },
  {
   "cell_type": "code",
   "execution_count": 25,
   "metadata": {},
   "outputs": [
    {
     "name": "stdout",
     "output_type": "stream",
     "text": [
      "+-------------+--------------------+---------+--------------+-----------+\n",
      "|TopCustomerID|             Country|TotalSale|NumberOfOrders|AverageSale|\n",
      "+-------------+--------------------+---------+--------------+-----------+\n",
      "|      18102.0|      United Kingdom|598215.22|           153|     3909.9|\n",
      "|      14646.0|         Netherlands|523342.07|           164|    3191.11|\n",
      "|      14156.0|                EIRE|296564.69|           202|    1468.14|\n",
      "|      12415.0|           Australia|143269.29|            33|    4341.49|\n",
      "|      17404.0|              Sweden| 46006.82|            28|     1643.1|\n",
      "|      12471.0|             Germany| 37948.61|           129|     294.18|\n",
      "|      12678.0|              France| 33851.13|            23|    1471.79|\n",
      "|      13902.0|             Denmark| 30411.26|             8|    3801.41|\n",
      "|      12409.0|         Switzerland| 23090.47|            13|    1776.19|\n",
      "|      12540.0|               Spain| 22107.29|            36|     614.09|\n",
      "|      12753.0|               Japan| 21024.01|            11|    1911.27|\n",
      "|      12433.0|              Norway| 20428.86|            11|    1857.17|\n",
      "|      12744.0|           Singapore| 13158.16|            14|     939.87|\n",
      "|      14936.0|     Channel Islands| 12378.46|            14|     884.18|\n",
      "|      12766.0|            Portugal| 10026.43|            11|     911.49|\n",
      "|      14439.0|              Greece|  9443.04|             5|    1888.61|\n",
      "|      12359.0|              Cyprus|  8714.89|            14|     622.49|\n",
      "|      12380.0|             Belgium|   7888.0|            15|     525.87|\n",
      "|      12428.0|             Finland|   7877.2|            12|     656.43|\n",
      "|      15332.0|           Lithuania|  6553.74|             6|    1092.29|\n",
      "|      12779.0|              Poland|  6406.76|            21|     305.08|\n",
      "|      12347.0|             Iceland|  5633.32|             8|     704.17|\n",
      "|      12594.0|               Italy|  5044.51|            17|     296.74|\n",
      "|      12688.0|              Israel|  4873.81|             1|    4873.81|\n",
      "|      17829.0|United Arab Emirates|  4680.42|             6|     780.07|\n",
      "|      16320.0|         Unspecified|  4428.85|             8|     553.61|\n",
      "|      12360.0|             Austria|  4212.89|             9|      468.1|\n",
      "|      15480.0|               Malta|  3592.25|             7|     513.18|\n",
      "|      12469.0|            Thailand|  3070.54|             2|    1535.27|\n",
      "|      17444.0|              Canada|  2940.04|             3|     980.01|\n",
      "|      12733.0|                 USA|  2326.82|             6|      387.8|\n",
      "|      12764.0|             Lebanon|  1693.88|             1|    1693.88|\n",
      "|      15108.0|  European Community|  1291.75|             5|     258.35|\n",
      "|      12769.0|              Brazil|   1143.6|             1|     1143.6|\n",
      "|      12446.0|                 RSA|  1002.31|             1|    1002.31|\n",
      "|      12767.0|               Korea|   949.82|             1|     949.82|\n",
      "|      12355.0|             Bahrain|   947.61|             2|     473.81|\n",
      "|      12781.0|      Czech Republic|   707.72|             5|     141.54|\n",
      "|      18140.0|         West Indies|   536.41|             1|     536.41|\n",
      "|      15702.0|             Nigeria|   140.39|             2|       70.2|\n",
      "|      12565.0|        Saudi Arabia|   131.17|             2|      65.59|\n",
      "+-------------+--------------------+---------+--------------+-----------+\n",
      "\n"
     ]
    }
   ],
   "source": [
    "tab3 = spark.sql(\"SELECT CustomerID AS TopCustomerID, Country, TotalSale, NumberOfOrders, ROUND(TotalSale/NumberOfOrders, 2) AS AverageSale FROM \\\n",
    "                 (SELECT CustomerID, RANK() OVER (PARTITION BY Country ORDER BY TotalSale DESC) AS Ordinal, TotalSale, NumberOfOrders, Country FROM \\\n",
    "                 (SELECT CustomerID, ROUND(SUM(ItemTotal), 2) AS TotalSale, COUNT(DISTINCT Invoice) AS NumberOfOrders, Country FROM retail GROUP BY Country, CustomerID) \\\n",
    "                 ORDER BY Ordinal, TotalSale DESC) WHERE Ordinal = 1\")\n",
    "tab3.show(tab3.count())"
   ]
  },
  {
   "cell_type": "code",
   "execution_count": 26,
   "metadata": {
    "scrolled": false
   },
   "outputs": [
    {
     "name": "stdout",
     "output_type": "stream",
     "text": [
      "+-------+------------+-------+\n",
      "|Invoice|InvoiceTotal|   Date|\n",
      "+-------+------------+-------+\n",
      "| 537659|    31770.98|12/2010|\n",
      "| 526934|    26007.08|10/2010|\n",
      "| 515944|    22863.36|07/2010|\n",
      "| 572209|     22206.0|10/2011|\n",
      "| 517731|     21984.0|08/2010|\n",
      "| 537657|    19278.24|12/2010|\n",
      "| 494243|     18532.3|01/2010|\n",
      "| 531866|    18122.17|11/2010|\n",
      "| 556255|     16488.0|06/2011|\n",
      "| 490059|     14475.0|12/2009|\n",
      "| 566934|    13249.94|09/2011|\n",
      "| 491456|     11016.0|12/2009|\n",
      "| 555920|    10999.52|06/2011|\n",
      "| 581457|    10363.82|12/2011|\n",
      "| 556726|     8915.52|06/2011|\n",
      "| 553368|     8895.66|05/2011|\n",
      "| 516781|     8328.31|07/2010|\n",
      "| 558775|      7786.0|07/2011|\n",
      "| 572196|     7398.54|10/2011|\n",
      "| 569343|     7298.76|10/2011|\n",
      "| 566935|      6870.0|09/2011|\n",
      "| 494244|      6711.0|01/2010|\n",
      "| 493885|      6624.0|01/2010|\n",
      "| 561655|      6591.6|07/2011|\n",
      "| 498440|      6412.0|02/2010|\n",
      "| 543379|     6155.72|02/2011|\n",
      "| 503186|     6051.45|03/2010|\n",
      "| 511335|     6007.68|06/2010|\n",
      "| 509352|      5782.0|05/2010|\n",
      "| 566931|      5725.0|09/2011|\n",
      "| 500173|     5525.28|03/2010|\n",
      "| 547812|     5513.32|03/2011|\n",
      "| 558776|      5496.0|07/2011|\n",
      "| 505981|      5416.8|04/2010|\n",
      "| 553470|     5410.06|05/2011|\n",
      "| 574352|     5292.72|11/2011|\n",
      "| 497157|      5206.5|02/2010|\n",
      "| 569255|     5164.66|10/2011|\n",
      "| 499297|      5158.4|02/2010|\n",
      "| 574363|     5028.76|11/2011|\n",
      "| 565291|     4913.52|09/2011|\n",
      "| 569263|      4849.1|10/2011|\n",
      "| 511435|     4588.62|06/2010|\n",
      "| 501685|      4580.0|03/2010|\n",
      "| 574341|      4557.6|11/2011|\n",
      "| 513331|      4453.8|06/2010|\n",
      "| 543378|     4379.76|02/2011|\n",
      "| 566936|      4351.0|09/2011|\n",
      "| 499298|      4122.0|02/2010|\n",
      "| 567852|      4117.4|09/2011|\n",
      "| 490061|      4000.0|12/2009|\n",
      "| 517253|     3947.58|07/2010|\n",
      "| 567803|     3877.56|09/2011|\n",
      "| 538063|     3828.48|12/2010|\n",
      "| 518735|     3814.16|08/2010|\n",
      "| 515932|     3761.64|07/2010|\n",
      "| 505984|     3707.92|04/2010|\n",
      "| 493883|      3528.0|01/2010|\n",
      "| 492237|      3480.0|12/2009|\n",
      "| 508529|     3363.57|05/2010|\n",
      "| 517250|      3297.6|07/2010|\n",
      "| 556723|      3060.4|06/2011|\n",
      "| 520504|      2901.0|08/2010|\n",
      "| 493258|     2872.04|12/2009|\n",
      "| 520736|     2837.88|08/2010|\n",
      "| 526945|     2832.48|10/2010|\n",
      "| 519468|     2777.12|08/2010|\n",
      "| 568717|      2748.0|09/2011|\n",
      "| 556725|      2496.0|06/2011|\n",
      "| 553471|     2462.26|05/2011|\n",
      "| 499299|      2448.0|02/2010|\n",
      "| 560646|     2365.91|07/2011|\n",
      "| 569257|     2350.98|10/2011|\n",
      "| 489438|     2286.24|12/2009|\n",
      "| 515930|     2284.92|07/2010|\n",
      "| 515936|     2284.92|07/2010|\n",
      "| 492236|      2156.0|12/2009|\n",
      "| 518737|     2063.88|08/2010|\n",
      "| 517242|      1992.0|07/2010|\n",
      "| 505534|      1824.1|04/2010|\n",
      "| 519470|      1789.6|08/2010|\n",
      "| 531515|     1786.02|11/2010|\n",
      "| 504234|     1704.72|04/2010|\n",
      "| 502888|      1652.4|03/2010|\n",
      "| 515940|      1636.8|07/2010|\n",
      "| 517646|     1633.86|07/2010|\n",
      "| 507464|      1621.8|05/2010|\n",
      "| 493702|      1600.0|01/2010|\n",
      "| 493703|      1560.0|01/2010|\n",
      "| 505987|     1480.37|04/2010|\n",
      "| 566933|      1465.6|09/2011|\n",
      "| 518545|     1436.48|08/2010|\n",
      "| 517754|      1424.0|08/2010|\n",
      "| 545466|      1396.0|03/2011|\n",
      "| 507465|     1393.92|05/2010|\n",
      "| 527354|      1356.0|10/2010|\n",
      "| 520503|      1300.0|08/2010|\n",
      "| 503183|     1254.22|03/2010|\n",
      "| 550711|     1196.96|04/2011|\n",
      "| 532822|     1122.48|11/2010|\n",
      "| 569365|     1094.71|10/2011|\n",
      "| 567785|      1074.0|09/2011|\n",
      "| 531867|     1061.84|11/2010|\n",
      "| 502906|     1045.44|03/2010|\n",
      "| 569362|     1023.96|10/2011|\n",
      "| 508525|     1012.96|05/2010|\n",
      "| 562541|      985.92|08/2011|\n",
      "| 553475|       866.4|05/2011|\n",
      "| 505536|       840.0|04/2010|\n",
      "| 500172|      807.12|03/2010|\n",
      "| 505985|      796.68|04/2010|\n",
      "| 537658|      791.52|12/2010|\n",
      "| 505533|      740.52|04/2010|\n",
      "| 518551|       714.0|08/2010|\n",
      "| 560648|      710.25|07/2011|\n",
      "| 518546|      699.35|08/2010|\n",
      "| 581455|      652.28|12/2011|\n",
      "| 569366|      647.52|10/2011|\n",
      "| 518552|      635.04|08/2010|\n",
      "| 518548|       583.8|08/2010|\n",
      "| 569539|      557.76|10/2011|\n",
      "| 518550|       532.0|08/2010|\n",
      "| 518547|      526.08|08/2010|\n",
      "| 492238|      520.46|12/2009|\n",
      "| 518549|       498.0|08/2010|\n",
      "| 515933|      486.72|07/2010|\n",
      "| 581566|      469.44|12/2011|\n",
      "| 497030|      458.42|02/2010|\n",
      "| 567806|      452.84|09/2011|\n",
      "| 567747|      389.76|09/2011|\n",
      "| 511330|      299.52|06/2010|\n",
      "| 503184|       299.2|03/2010|\n",
      "| 567860|      295.96|09/2011|\n",
      "| 579139|      286.08|11/2011|\n",
      "| 553474|      276.48|05/2011|\n",
      "| 553473|      254.88|05/2011|\n",
      "| 499300|      214.08|02/2010|\n",
      "| 492836|       200.0|12/2009|\n",
      "| 568718|        91.6|09/2011|\n",
      "| 516022|        91.6|07/2010|\n",
      "| 572197|       89.28|10/2011|\n",
      "| 574355|       85.32|11/2011|\n",
      "| 574383|        80.6|11/2011|\n",
      "| 505982|       78.64|04/2010|\n",
      "| 505535|         6.8|04/2010|\n",
      "|C550529|     -158.21|04/2011|\n",
      "|C522755|      -162.0|09/2010|\n",
      "|C497158|      -446.5|02/2010|\n",
      "|C527516|     -619.92|10/2010|\n",
      "|C517258|     -1282.4|07/2010|\n",
      "|C498595|     -1296.0|02/2010|\n",
      "|C560647|     -3060.6|07/2011|\n",
      "|C515886|     -3580.8|07/2010|\n",
      "+-------+------------+-------+\n",
      "\n"
     ]
    }
   ],
   "source": [
    "tab4 = spark.sql(\"SELECT DISTINCT Invoice, InvoiceTotal, DATE_FORMAT(InvoiceDate, 'MM/yyyy') AS Date FROM retail WHERE CustomerID = 18102.0 ORDER BY InvoiceTotal DESC\")\n",
    "tab4.show(tab4.count())"
   ]
  },
  {
   "cell_type": "code",
   "execution_count": 27,
   "metadata": {},
   "outputs": [
    {
     "name": "stdout",
     "output_type": "stream",
     "text": [
      "+-----+----+-------------------+\n",
      "|Month|Year|UnitsPerTransaction|\n",
      "+-----+----+-------------------+\n",
      "|   12|2009|              205.4|\n",
      "|    1|2010|              283.3|\n",
      "|    2|2010|              274.4|\n",
      "|    3|2010|              261.7|\n",
      "|    4|2010|              214.0|\n",
      "|    5|2010|              209.1|\n",
      "|    6|2010|              205.3|\n",
      "|    7|2010|              186.6|\n",
      "|    8|2010|              288.9|\n",
      "|    9|2010|              232.3|\n",
      "|   10|2010|              227.1|\n",
      "|   11|2010|              203.1|\n",
      "|   12|2010|              259.3|\n",
      "|    1|2011|              217.9|\n",
      "|    2|2011|              218.7|\n",
      "|    3|2011|              212.5|\n",
      "|    4|2011|              201.3|\n",
      "|    5|2011|              198.9|\n",
      "|    6|2011|              209.1|\n",
      "|    7|2011|              228.1|\n",
      "|    8|2011|              250.4|\n",
      "|    9|2011|              258.7|\n",
      "|   10|2011|              251.7|\n",
      "|   11|2011|              217.1|\n",
      "|   12|2011|              221.3|\n",
      "+-----+----+-------------------+\n",
      "\n"
     ]
    }
   ],
   "source": [
    "tab5 = spark.sql(\"SELECT Month, Year, ROUND(SUM(TotalUnits)/COUNT(DISTINCT Invoice), 1) AS UnitsPerTransaction FROM \\\n",
    "                 (SELECT SUM(Quantity) AS TotalUnits, Invoice, YEAR(InvoiceDate) AS Year, Month(InvoiceDate) AS Month FROM retail GROUP BY YEAR(InvoiceDate), MONTH(InvoiceDate), Invoice) \\\n",
    "                 GROUP BY Year, Month ORDER BY Year, Month\")\n",
    "tab5.show(tab5.count())"
   ]
  },
  {
   "cell_type": "code",
   "execution_count": 28,
   "metadata": {
    "scrolled": false
   },
   "outputs": [
    {
     "name": "stdout",
     "output_type": "stream",
     "text": [
      "+-----+----+-----------+\n",
      "|Month|Year|AverageSale|\n",
      "+-----+----+-----------+\n",
      "|   12|2009|     349.09|\n",
      "|    1|2010|     410.46|\n",
      "|    2|2010|     366.59|\n",
      "|    3|2010|     333.51|\n",
      "|    4|2010|     347.14|\n",
      "|    5|2010|      316.7|\n",
      "|    6|2010|     311.76|\n",
      "|    7|2010|     328.54|\n",
      "|    8|2010|     379.61|\n",
      "|    9|2010|     382.67|\n",
      "|   10|2010|     373.16|\n",
      "|   11|2010|     360.85|\n",
      "|   12|2010|     503.06|\n",
      "|    1|2011|     384.36|\n",
      "|    2|2011|     363.18|\n",
      "|    3|2011|     358.22|\n",
      "|    4|2011|     307.84|\n",
      "|    5|2011|      350.6|\n",
      "|    6|2011|     356.19|\n",
      "|    7|2011|     360.48|\n",
      "|    8|2011|      399.2|\n",
      "|    9|2011|     448.24|\n",
      "|   10|2011|     430.67|\n",
      "|   11|2011|     366.95|\n",
      "|   12|2011|      371.9|\n",
      "+-----+----+-----------+\n",
      "\n"
     ]
    }
   ],
   "source": [
    "tab6 = spark.sql(\"SELECT MONTH(InvoiceDate) AS Month, YEAR(InvoiceDate) AS Year, ROUND(SUM(ItemTotal)/COUNT(DISTINCT Invoice), 2) AS AverageSale FROM retail GROUP BY Year, Month ORDER BY Year, Month\")\n",
    "tab6.show(tab6.count())"
   ]
  },
  {
   "cell_type": "code",
   "execution_count": 29,
   "metadata": {
    "scrolled": false
   },
   "outputs": [
    {
     "name": "stdout",
     "output_type": "stream",
     "text": [
      "+-----+----+---------+--------------------+----------+-----+\n",
      "|Month|Year|StockCode|         Description|TotalUnits|Price|\n",
      "+-----+----+---------+--------------------+----------+-----+\n",
      "|   12|2009|   85123A|WHITE HANGING HEA...|      6204| 2.65|\n",
      "|    1|2010|    20993|JAZZ HEARTS MEMO PAD|      9489|  0.1|\n",
      "|    2|2010|    37410|BLACK AND WHITE P...|     19248|  0.1|\n",
      "|    3|2010|    21091|SET/6 WOODLAND PA...|     13099| 0.11|\n",
      "|    4|2010|    21212|PACK OF 72 RETRO ...|      5258| 0.47|\n",
      "|    5|2010|    21982|PACK OF 12 SUKI T...|      5570| 0.48|\n",
      "|    6|2010|    84077|WORLD WAR 2 GLIDE...|      5388|  0.2|\n",
      "|    7|2010|    21212|PACK OF 72 RETRO ...|      4081| 0.51|\n",
      "|    8|2010|    21088|SET/6 FRUIT SALAD...|      7131| 0.08|\n",
      "|    9|2010|    17003| BROCADE RING PURSE |     13817| 0.19|\n",
      "|   10|2010|    84568|GIRLS ALPHABET IR...|      6336| 0.18|\n",
      "|   11|2010|    84347|ROTATING SILVER A...|     11474| 1.79|\n",
      "|   12|2010|    84077|WORLD WAR 2 GLIDE...|      8883| 0.21|\n",
      "|    1|2011|   85123A|WHITE HANGING HEA...|      5456| 2.74|\n",
      "|    2|2011|    22053|EMPIRE DESIGN ROS...|      3986| 0.83|\n",
      "|    3|2011|   85099B|JUMBO BAG RED RET...|      4923| 1.73|\n",
      "|    4|2011|    84077|WORLD WAR 2 GLIDE...|     10128| 0.22|\n",
      "|    5|2011|    22197|SMALL POPCORN HOLDER|      6737| 0.74|\n",
      "|    6|2011|   85099B|JUMBO BAG RED RET...|      3523| 1.88|\n",
      "|    7|2011|    84568|GIRLS ALPHABET IR...|      4896| 0.17|\n",
      "|    8|2011|    84879|ASSORTED COLOUR B...|      6424|  1.5|\n",
      "|    9|2011|   85099B|JUMBO BAG RED RET...|      4043| 1.91|\n",
      "|   10|2011|    84077|WORLD WAR 2 GLIDE...|      8174| 0.24|\n",
      "|   11|2011|    84826|ASSTD DESIGN 3D P...|     12551|  0.0|\n",
      "|   12|2011|    22197|      POPCORN HOLDER|      5343| 0.74|\n",
      "+-----+----+---------+--------------------+----------+-----+\n",
      "\n"
     ]
    }
   ],
   "source": [
    "tab7 = spark.sql(\"SELECT Month, Year, StockCode, Description, TotalUnits, Price FROM \\\n",
    "                (SELECT Month, Year, StockCode, Description, TotalUnits, Price, RANK() OVER(PARTITION BY Year, Month ORDER BY TotalUnits DESC) AS Ordinal FROM \\\n",
    "                (SELECT MONTH(InvoiceDate) AS Month, YEAR(InvoiceDate) AS Year, StockCode, Description, ROUND(SUM(ItemTotal)/SUM(Quantity), 2) AS Price, SUM(Quantity) AS TotalUnits FROM retail \\\n",
    "                 GROUP BY Year, Month, StockCode, Description ORDER BY Year, Month)) WHERE Ordinal = 1\")\n",
    "tab7.show(tab7.count())"
   ]
  },
  {
   "cell_type": "code",
   "execution_count": 30,
   "metadata": {},
   "outputs": [
    {
     "name": "stdout",
     "output_type": "stream",
     "text": [
      "+-------+---------+--------------------+--------+-------------------+-----+----------+--------------+---------+------------+\n",
      "|Invoice|StockCode|         Description|Quantity|        InvoiceDate|Price|CustomerID|       Country|ItemTotal|InvoiceTotal|\n",
      "+-------+---------+--------------------+--------+-------------------+-----+----------+--------------+---------+------------+\n",
      "| 575336|    84826|ASSTD DESIGN 3D P...|       4|2011-11-09 13:58:00| 0.85|   14968.0|United Kingdom|      3.4|      147.59|\n",
      "| 575337|    84826|ASSTD DESIGN 3D P...|       5|2011-11-09 14:11:00| 0.85|   17867.0|United Kingdom|     4.25|      224.67|\n",
      "| 575337|    84826|ASSTD DESIGN 3D P...|       1|2011-11-09 14:11:00| 0.85|   17867.0|United Kingdom|     0.85|      224.67|\n",
      "| 578841|    84826|ASSTD DESIGN 3D P...|   12540|2011-11-25 15:57:00|  0.0|   13256.0|United Kingdom|      0.0|         0.0|\n",
      "| 575767|    84826|ASSTD DESIGN 3D P...|       1|2011-11-11 11:11:00| 0.85|   17348.0|United Kingdom|     0.85|      209.73|\n",
      "+-------+---------+--------------------+--------+-------------------+-----+----------+--------------+---------+------------+\n",
      "\n"
     ]
    }
   ],
   "source": [
    "tab7a = spark.sql(\"SELECT * FROM retail WHERE (StockCode = 84826) and (MONTH(InvoiceDate) = MONTH(DATE('2011-11-01'))) and (YEAR(InvoiceDate) = YEAR(DATE('2011-11-01')))\")\n",
    "tab7a.show()"
   ]
  },
  {
   "cell_type": "code",
   "execution_count": 31,
   "metadata": {},
   "outputs": [
    {
     "name": "stdout",
     "output_type": "stream",
     "text": [
      "+-------+---------+--------------------+--------+-------------------+-----+----------+--------------+---------+------------+\n",
      "|Invoice|StockCode|         Description|Quantity|        InvoiceDate|Price|CustomerID|       Country|ItemTotal|InvoiceTotal|\n",
      "+-------+---------+--------------------+--------+-------------------+-----+----------+--------------+---------+------------+\n",
      "| 517861|    21088|SET/6 FRUIT SALAD...|       3|2010-08-02 14:07:00| 0.65|   13090.0|United Kingdom|     1.95|      190.12|\n",
      "| 518505|    21088|SET/6 FRUIT SALAD...|    7128|2010-08-09 13:10:00| 0.08|   14277.0|        France|   570.24|    11880.84|\n",
      "+-------+---------+--------------------+--------+-------------------+-----+----------+--------------+---------+------------+\n",
      "\n"
     ]
    }
   ],
   "source": [
    "tab7b = spark.sql(\"SELECT * FROM retail WHERE (StockCode = 21088) and (MONTH(InvoiceDate) = MONTH(DATE('2010-08-01'))) and (YEAR(InvoiceDate) = YEAR(DATE('2010-08-01')))\")\n",
    "tab7b.show()"
   ]
  },
  {
   "cell_type": "code",
   "execution_count": 32,
   "metadata": {},
   "outputs": [
    {
     "name": "stdout",
     "output_type": "stream",
     "text": [
      "+-------+---------+--------------------+--------+-------------------+-----+----------+--------------+---------+------------+\n",
      "|Invoice|StockCode|         Description|Quantity|        InvoiceDate|Price|CustomerID|       Country|ItemTotal|InvoiceTotal|\n",
      "+-------+---------+--------------------+--------+-------------------+-----+----------+--------------+---------+------------+\n",
      "| 493953|    20993|JAZZ HEARTS MEMO PAD|      48|2010-01-08 14:04:00| 0.19|   14327.0|United Kingdom|     9.12|      328.62|\n",
      "| 494208|    20993|JAZZ HEARTS MEMO PAD|       1|2010-01-12 11:33:00| 0.85|   17945.0|United Kingdom|     0.85|       137.7|\n",
      "| 493577|    20993|JAZZ HEARTS MEMO PAD|      48|2010-01-05 11:16:00| 0.19|   13557.0|United Kingdom|     9.12|      311.42|\n",
      "| 495488|    20993|JAZZ HEARTS MEMO PAD|      12|2010-01-25 12:19:00| 0.85|   14911.0|          EIRE|     10.2|      627.43|\n",
      "| 494644|    20993|JAZZ HEARTS MEMO PAD|       2|2010-01-17 12:12:00| 0.85|   16595.0|United Kingdom|      1.7|      519.18|\n",
      "| 495530|    20993|JAZZ HEARTS MEMO PAD|       2|2010-01-25 15:22:00| 0.85|   15768.0|United Kingdom|      1.7|      730.94|\n",
      "| 493841|    20993|JAZZ HEARTS MEMO PAD|      12|2010-01-07 14:04:00| 0.85|   13394.0|United Kingdom|     10.2|      699.83|\n",
      "| 496086|    20993|JAZZ HEARTS MEMO PAD|       4|2010-01-28 19:41:00| 0.85|   15861.0|United Kingdom|      3.4|      413.75|\n",
      "| 494023|    20993|JAZZ HEARTS MEMO PAD|      48|2010-01-11 10:08:00| 0.19|   13162.0|United Kingdom|     9.12|      488.68|\n",
      "| 495194|    20993|JAZZ HEARTS MEMO PAD|    9312|2010-01-21 15:11:00|  0.1|   13902.0|       Denmark|    931.2|      6989.4|\n",
      "+-------+---------+--------------------+--------+-------------------+-----+----------+--------------+---------+------------+\n",
      "\n"
     ]
    }
   ],
   "source": [
    "tab7c = spark.sql(\"SELECT * FROM retail WHERE (StockCode = 20993) and (MONTH(InvoiceDate) = MONTH(DATE('2010-01-01'))) and (YEAR(InvoiceDate) = YEAR(DATE('2010-01-01')))\")\n",
    "tab7c.show()"
   ]
  },
  {
   "cell_type": "code",
   "execution_count": 33,
   "metadata": {},
   "outputs": [
    {
     "name": "stdout",
     "output_type": "stream",
     "text": [
      "+-------+---------+--------------------+--------+-------------------+-----+----------+--------------+---------+------------+\n",
      "|Invoice|StockCode|         Description|Quantity|        InvoiceDate|Price|CustomerID|       Country|ItemTotal|InvoiceTotal|\n",
      "+-------+---------+--------------------+--------+-------------------+-----+----------+--------------+---------+------------+\n",
      "| 499486|    37410|BLACK AND WHITE P...|      72|2010-02-28 13:42:00| 0.85|   15061.0|United Kingdom|     61.2|     1422.78|\n",
      "| 498548|    37410|BLACK AND WHITE P...|      12|2010-02-19 17:40:00| 1.25|   17400.0|United Kingdom|     15.0|      976.01|\n",
      "| 499456|    37410|BLACK AND WHITE P...|      12|2010-02-28 10:40:00| 1.25|   17819.0|United Kingdom|     15.0|       131.4|\n",
      "| 497946|    37410|BLACK AND WHITE P...|   19152|2010-02-15 11:57:00|  0.1|   13902.0|       Denmark|   1915.2|     16973.1|\n",
      "+-------+---------+--------------------+--------+-------------------+-----+----------+--------------+---------+------------+\n",
      "\n"
     ]
    }
   ],
   "source": [
    "tab7d = spark.sql(\"SELECT * FROM retail WHERE (StockCode = 37410) and (MONTH(InvoiceDate) = MONTH(DATE('2010-02-01'))) and (YEAR(InvoiceDate) = YEAR(DATE('2010-02-01')))\")\n",
    "tab7d.show()"
   ]
  },
  {
   "cell_type": "code",
   "execution_count": 34,
   "metadata": {},
   "outputs": [
    {
     "name": "stdout",
     "output_type": "stream",
     "text": [
      "+-------+---------+--------------------+--------+-------------------+-----+----------+--------------+---------+------------+\n",
      "|Invoice|StockCode|         Description|Quantity|        InvoiceDate|Price|CustomerID|       Country|ItemTotal|InvoiceTotal|\n",
      "+-------+---------+--------------------+--------+-------------------+-----+----------+--------------+---------+------------+\n",
      "| 500336|    21091|SET/6 WOODLAND PA...|       6|2010-03-07 13:48:00| 0.85|   17589.0|United Kingdom|      5.1|      619.04|\n",
      "| 500133|    21091|SET/6 WOODLAND PA...|       4|2010-03-04 15:07:00| 0.85|   16329.0|United Kingdom|      3.4|      402.79|\n",
      "| 499517|    21091|SET/6 WOODLAND PA...|      12|2010-03-01 09:58:00| 0.85|   12598.0|        France|     10.2|      629.39|\n",
      "| 501652|    21091|SET/6 WOODLAND PA...|       1|2010-03-18 12:47:00| 0.85|   17841.0|United Kingdom|     0.85|      281.03|\n",
      "| 501652|    21091|SET/6 WOODLAND PA...|       3|2010-03-18 12:47:00| 0.85|   17841.0|United Kingdom|     2.55|      281.03|\n",
      "| 501534|    21091|SET/6 WOODLAND PA...|   12960|2010-03-17 13:09:00|  0.1|   13902.0|       Denmark|   1296.0|      6866.3|\n",
      "| 499685|    21091|SET/6 WOODLAND PA...|      96|2010-03-02 10:04:00| 0.64|   14646.0|   Netherlands|    61.44|     1562.94|\n",
      "| 500163|    21091|SET/6 WOODLAND PA...|      12|2010-03-05 08:45:00| 0.85|   12399.0|       Belgium|     10.2|      205.98|\n",
      "| 499772|    21091|SET/6 WOODLAND PA...|       5|2010-03-02 13:36:00| 0.85|   16960.0|United Kingdom|     4.25|      443.98|\n",
      "+-------+---------+--------------------+--------+-------------------+-----+----------+--------------+---------+------------+\n",
      "\n"
     ]
    }
   ],
   "source": [
    "tab7e = spark.sql(\"SELECT * FROM retail WHERE (StockCode = 21091) and (MONTH(InvoiceDate) = MONTH(DATE('2010-03-01'))) and (YEAR(InvoiceDate) = YEAR(DATE('2010-03-01')))\")\n",
    "tab7e.show()"
   ]
  },
  {
   "cell_type": "code",
   "execution_count": 35,
   "metadata": {
    "scrolled": false
   },
   "outputs": [
    {
     "name": "stdout",
     "output_type": "stream",
     "text": [
      "+-----+----+---------+--------------------+---------+--------+---------+\n",
      "|Month|Year|StockCode|         Description|ItemTotal|Quantity|UnitPrice|\n",
      "+-----+----+---------+--------------------+---------+--------+---------+\n",
      "|   12|2009|   85123A|WHITE HANGING HEA...| 16417.86|    6204|     2.65|\n",
      "|    1|2010|   85123A|WHITE HANGING HEA...|  14223.4|    5380|     2.64|\n",
      "|    2|2010|   85123A|WHITE HANGING HEA...|   7592.2|    2804|     2.71|\n",
      "|    3|2010|   85123A|WHITE HANGING HEA...| 12540.62|    4718|     2.66|\n",
      "|    4|2010|    22423|REGENCY CAKESTAND...|  12717.0|    1092|    11.65|\n",
      "|    5|2010|   85123A|WHITE HANGING HEA...|  11704.4|    4384|     2.67|\n",
      "|    6|2010|    22423|REGENCY CAKESTAND...| 14902.35|    1290|    11.55|\n",
      "|    7|2010|    22423|REGENCY CAKESTAND...| 15168.75|    1321|    11.48|\n",
      "|    8|2010|   85123A|WHITE HANGING HEA...|  11257.2|    4224|     2.67|\n",
      "|    9|2010|    22423|REGENCY CAKESTAND...| 21332.85|    1867|    11.43|\n",
      "|   10|2010|    22423|REGENCY CAKESTAND...| 20332.05|    1767|    11.51|\n",
      "|   11|2010|    84347|ROTATING SILVER A...|  20569.5|   11474|     1.79|\n",
      "|   12|2010|    22423|REGENCY CAKESTAND...|  24941.4|    2210|    11.29|\n",
      "|    1|2011|   85123A|WHITE HANGING HEA...|  14948.5|    5456|     2.74|\n",
      "|    2|2011|    22423|REGENCY CAKESTAND...|   9016.2|     792|    11.38|\n",
      "|    3|2011|    22423|REGENCY CAKESTAND...|  13256.0|    1160|    11.43|\n",
      "|    4|2011|    22423|REGENCY CAKESTAND...| 12189.45|    1055|    11.55|\n",
      "|    5|2011|    47566|       PARTY BUNTING|  13413.2|    3020|     4.44|\n",
      "|    6|2011|    22502|PICNIC BASKET WIC...|  39619.5|      61|    649.5|\n",
      "|    7|2011|    22423|REGENCY CAKESTAND...| 12015.45|    1059|    11.35|\n",
      "|    8|2011|   85099B|JUMBO BAG RED RET...|  9690.65|    5177|     1.87|\n",
      "|    9|2011|    23243|SET OF TEA COFFEE...|  9833.02|    2054|     4.79|\n",
      "|   10|2011|    23084|  RABBIT NIGHT LIGHT| 11948.19|    6245|     1.91|\n",
      "|   11|2011|    23084|  RABBIT NIGHT LIGHT|  23134.1|   12322|     1.88|\n",
      "|   12|2011|    23084|  RABBIT NIGHT LIGHT|  6864.75|    3678|     1.87|\n",
      "+-----+----+---------+--------------------+---------+--------+---------+\n",
      "\n"
     ]
    }
   ],
   "source": [
    "tab8 = spark.sql(\"SELECT Month, Year, StockCode, Description, ROUND(ItemTotal, 2) AS ItemTotal, Quantity, ROUND(ItemTotal/Quantity, 2) AS UnitPrice FROM \\\n",
    "                (SELECT Month, Year, StockCode, Description, ItemTotal, RANK() OVER(PARTITION BY Year, Month ORDER BY ItemTotal DESC) AS Ordinal, Quantity FROM \\\n",
    "                (SELECT MONTH(InvoiceDate) AS Month, YEAR(InvoiceDate) AS Year, StockCode, Description, SUM(ItemTotal) AS ItemTotal, SUM(Quantity) AS Quantity FROM retail \\\n",
    "                 GROUP BY Year, Month, StockCode, Description ORDER BY Year, Month)) WHERE Ordinal = 1\")\n",
    "tab8.show(tab8.count())"
   ]
  },
  {
   "cell_type": "code",
   "execution_count": 36,
   "metadata": {},
   "outputs": [
    {
     "name": "stdout",
     "output_type": "stream",
     "text": [
      "+---------+--------------------+---------+--------+-----------------+--------------+\n",
      "|StockCode|         Description|ItemTotal|Quantity|NumberOfCustomers|NumberOfOrders|\n",
      "+---------+--------------------+---------+--------+-----------------+--------------+\n",
      "|    22423|REGENCY CAKESTAND...| 269736.7|   23446|             1316|          3659|\n",
      "|   85123A|WHITE HANGING HEA...|242700.51|   90008|             1494|          5021|\n",
      "|   85099B|JUMBO BAG RED RET...|134845.16|   74564|              861|          2683|\n",
      "|    84879|ASSORTED COLOUR B...|126354.18|   79434|             1012|          2669|\n",
      "|     POST|             POSTAGE| 112249.1|    5078|              496|          1981|\n",
      "|    47566|       PARTY BUNTING|102686.23|   23335|              894|          2100|\n",
      "|    22086|PAPER CHAIN KIT 5...| 78366.93|   29001|              896|          1706|\n",
      "|    79321|       CHILLI LIGHTS| 72229.34|   15591|              306|           942|\n",
      "|    21137|BLACK RECORD COVE...| 67127.15|   19606|              198|           546|\n",
      "|   85099F|JUMBO BAG STRAWBERRY| 64089.41|   35815|              549|          1540|\n",
      "+---------+--------------------+---------+--------+-----------------+--------------+\n",
      "\n"
     ]
    }
   ],
   "source": [
    "tab8a = spark.sql(\"SELECT StockCode, Description, ROUND(SUM(ItemTotal), 2) AS ItemTotal, SUM(Quantity) AS Quantity, COUNT(DISTINCT CustomerID) AS NumberOfCustomers, COUNT(DISTINCT Invoice) AS NumberOfOrders FROM retail \\\n",
    "                    GROUP BY StockCode, Description ORDER BY ItemTotal DESC LIMIT 10\")\n",
    "tab8a.show()"
   ]
  },
  {
   "cell_type": "code",
   "execution_count": 37,
   "metadata": {},
   "outputs": [
    {
     "name": "stdout",
     "output_type": "stream",
     "text": [
      "+---------+--------------------+---------+-------------+-----------------+--------------+\n",
      "|StockCode|         Description|ItemTotal|TotalQuantity|NumberOfCustomers|NumberOfOrders|\n",
      "+---------+--------------------+---------+-------------+-----------------+--------------+\n",
      "|    21772|VINTAGE METAL CAK...|    12.75|            1|                1|             1|\n",
      "|    22631|CIRCUS PARADE LUN...|     1.95|            1|                1|             1|\n",
      "|   90014C|SILVER AND BLACK ...|     2.95|            1|                1|             1|\n",
      "|    47569|ENGLISH ROSE DESI...|     2.55|            1|                1|             1|\n",
      "|   48173A| DOOR MAT BLUE FLOCK|     6.75|            1|                1|             1|\n",
      "|   90025B|BAROQUE BUTTERFLY...|     3.75|            1|                1|             1|\n",
      "|   84845A|HOLLYHOCK SQUARE ...|     1.25|            1|                1|             1|\n",
      "|    84626|CANDY STRIPE ROSE...|    45.95|            1|                1|             1|\n",
      "|    35999|S/6 SCANDINAVIAN ...|     2.55|            1|                1|             1|\n",
      "|    85171|S/2 HYACINTH BULB...|     2.55|            1|                1|             1|\n",
      "+---------+--------------------+---------+-------------+-----------------+--------------+\n",
      "\n"
     ]
    }
   ],
   "source": [
    "tab8b = spark.sql(\"SELECT StockCode, Description, ROUND(SUM(ItemTotal), 2) AS ItemTotal, SUM(Quantity) AS TotalQuantity, COUNT(DISTINCT CustomerID) AS NumberOfCustomers, COUNT(DISTINCT Invoice) AS NumberOfOrders FROM retail \\\n",
    "                 WHERE Price > 0 AND Quantity > 0 GROUP BY StockCode, Description ORDER BY TotalQuantity LIMIT 10\")\n",
    "tab8b.show()"
   ]
  },
  {
   "cell_type": "code",
   "execution_count": 38,
   "metadata": {},
   "outputs": [
    {
     "name": "stdout",
     "output_type": "stream",
     "text": [
      "+---------+--------------------+-------------+-----------------+--------------+\n",
      "|StockCode|         Description|TotalQuantity|NumberOfCustomers|NumberOfOrders|\n",
      "+---------+--------------------+-------------+-----------------+--------------+\n",
      "|        M|              Manual|        -5311|              229|           360|\n",
      "|    22423|REGENCY CAKESTAND...|        -1468|              195|           341|\n",
      "|    22138|BAKING SET 9 PIEC...|         -861|              181|           208|\n",
      "|     POST|             POSTAGE|         -255|              155|           178|\n",
      "|   79323W| WHITE CHERRY LIGHTS|        -1067|              107|           117|\n",
      "|    21232|STRAWBERRY CERAMI...|         -928|              102|           178|\n",
      "|   85123A|WHITE HANGING HEA...|        -3632|               99|           133|\n",
      "|    21843|RED RETROSPOT CAK...|         -506|               84|           105|\n",
      "|   79323P|  PINK CHERRY LIGHTS|         -693|               78|            86|\n",
      "|    22960|JAM MAKING SET WI...|         -255|               71|            86|\n",
      "+---------+--------------------+-------------+-----------------+--------------+\n",
      "\n"
     ]
    }
   ],
   "source": [
    "tab8c = spark.sql(\"SELECT StockCode, Description, SUM(Quantity) AS TotalQuantity, COUNT(DISTINCT CustomerID) AS NumberOfCustomers, COUNT(DISTINCT Invoice) AS NumberOfOrders FROM Retail \\\n",
    "                  WHERE Quantity < 0 GROUP BY StockCode, Description ORDER BY NumberOfCustomers DESC, TotalQuantity LIMIT 10\")\n",
    "tab8c.show()"
   ]
  },
  {
   "cell_type": "code",
   "execution_count": 45,
   "metadata": {},
   "outputs": [
    {
     "data": {
      "text/plain": [
       "\"'M', '22423', '22138', 'POST', '79323W', '21232', '85123A', '21843', '79323P', '22960'\""
      ]
     },
     "execution_count": 45,
     "metadata": {},
     "output_type": "execute_result"
    }
   ],
   "source": [
    "codes = tab8c.select('StockCode').collect()\n",
    "codes = [row['StockCode'] for row in codes]\n",
    "codes = \"'\" + \"', '\".join(codes) + \"'\"\n",
    "codes"
   ]
  },
  {
   "cell_type": "code",
   "execution_count": 46,
   "metadata": {
    "scrolled": false
   },
   "outputs": [
    {
     "name": "stdout",
     "output_type": "stream",
     "text": [
      "+---------+--------------------+-------------+-----------------+--------------+\n",
      "|StockCode|         Description|TotalQuantity|NumberOfCustomers|NumberOfOrders|\n",
      "+---------+--------------------+-------------+-----------------+--------------+\n",
      "|   85123A|WHITE HANGING HEA...|        93640|             1490|          4888|\n",
      "|    22423|REGENCY CAKESTAND...|        24914|             1314|          3318|\n",
      "|    22138|BAKING SET 9 PIEC...|         9052|             1137|          1742|\n",
      "|    21232|STRAWBERRY CERAMI...|        34726|              683|          1818|\n",
      "|    22960|JAM MAKING SET WI...|         8713|              583|           904|\n",
      "|    21843|RED RETROSPOT CAK...|         4437|              502|           985|\n",
      "|        M|              Manual|         9810|              443|           626|\n",
      "|     POST|             POSTAGE|         5333|              405|          1803|\n",
      "|    21843|RETRO SPOT CAKE S...|         1456|              207|           295|\n",
      "|   79323W| WHITE CHERRY LIGHTS|         1986|              136|           215|\n",
      "|   79323P|  PINK CHERRY LIGHTS|         2234|              132|           229|\n",
      "|   79323W| WHITE CHERRY LIGHTS|          962|               84|            98|\n",
      "|    21232|STRAWBERRY CERAMI...|         1038|               57|            75|\n",
      "|   85123A|CREAM HANGING HEA...|           57|                7|             7|\n",
      "+---------+--------------------+-------------+-----------------+--------------+\n",
      "\n"
     ]
    }
   ],
   "source": [
    "tab8d = spark.sql(f\"SELECT StockCode, Description, SUM(Quantity) AS TotalQuantity, COUNT(DISTINCT CustomerID) AS NumberOfCustomers, COUNT(DISTINCT Invoice) AS NumberOfOrders FROM retail \\\n",
    "                 WHERE Quantity > 0 AND StockCode IN ({codes}) GROUP BY StockCode, Description ORDER BY NumberOfCustomers DESC, TotalQuantity\")\n",
    "tab8d.show(tab8d.count())"
   ]
  },
  {
   "cell_type": "code",
   "execution_count": 41,
   "metadata": {},
   "outputs": [
    {
     "name": "stdout",
     "output_type": "stream",
     "text": [
      "+------------------------+\n",
      "|NumberOfNonRepeatClients|\n",
      "+------------------------+\n",
      "|                    1461|\n",
      "+------------------------+\n",
      "\n"
     ]
    }
   ],
   "source": [
    "tab10 = spark.sql(\"SELECT COUNT(*) AS NumberOfNonRepeatClients FROM (SELECT CustomerID FROM retail \\\n",
    "                GROUP BY CustomerID HAVING COUNT(DISTINCT Invoice) = 1)\")\n",
    "tab10.show()"
   ]
  },
  {
   "cell_type": "code",
   "execution_count": 42,
   "metadata": {},
   "outputs": [
    {
     "name": "stdout",
     "output_type": "stream",
     "text": [
      "+-------+---------+---------------------------+--------+-------------------+-----+----------+--------------+---------+------------+\n",
      "|Invoice|StockCode|Description                |Quantity|InvoiceDate        |Price|CustomerID|Country       |ItemTotal|InvoiceTotal|\n",
      "+-------+---------+---------------------------+--------+-------------------+-----+----------+--------------+---------+------------+\n",
      "|581483 |23843    |PAPER CRAFT , LITTLE BIRDIE|80995   |2011-12-09 09:15:00|2.08 |16446.0   |United Kingdom|168469.6 |168469.59   |\n",
      "+-------+---------+---------------------------+--------+-------------------+-----+----------+--------------+---------+------------+\n",
      "\n"
     ]
    }
   ],
   "source": [
    "tab11 = spark.sql(\"SELECT * FROM retail WHERE Invoice = (SELECT Invoice FROM retail GROUP BY Invoice ORDER BY SUM(ItemTotal) DESC LIMIT 1)\")\n",
    "tab11.show(1, False)"
   ]
  },
  {
   "cell_type": "code",
   "execution_count": 47,
   "metadata": {},
   "outputs": [],
   "source": [
    "spark.catalog.dropTempView(\"retail\")"
   ]
  },
  {
   "cell_type": "code",
   "execution_count": null,
   "metadata": {},
   "outputs": [],
   "source": []
  }
 ],
 "metadata": {
  "kernelspec": {
   "display_name": "Python 3",
   "language": "python",
   "name": "python3"
  },
  "language_info": {
   "codemirror_mode": {
    "name": "ipython",
    "version": 3
   },
   "file_extension": ".py",
   "mimetype": "text/x-python",
   "name": "python",
   "nbconvert_exporter": "python",
   "pygments_lexer": "ipython3",
   "version": "3.7.3"
  }
 },
 "nbformat": 4,
 "nbformat_minor": 2
}
